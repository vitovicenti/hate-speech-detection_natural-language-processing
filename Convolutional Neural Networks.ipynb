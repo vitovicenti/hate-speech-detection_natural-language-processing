{
  "cells": [
    {
      "cell_type": "code",
      "execution_count": 1,
      "metadata": {
        "colab": {
          "base_uri": "https://localhost:8080/"
        },
        "id": "lgCxJuCjF9Zn",
        "outputId": "901d98de-f831-4676-f7ce-88a1810e6756"
      },
      "outputs": [
        {
          "name": "stdout",
          "output_type": "stream",
          "text": [
            "--2023-06-25 14:41:13--  https://dl.fbaipublicfiles.com/fasttext/vectors-crawl/cc.it.300.vec.gz\n",
            "Resolving dl.fbaipublicfiles.com (dl.fbaipublicfiles.com)... 13.224.2.6, 13.224.2.42, 13.224.2.88, ...\n",
            "Connecting to dl.fbaipublicfiles.com (dl.fbaipublicfiles.com)|13.224.2.6|:443... connected.\n",
            "HTTP request sent, awaiting response... 200 OK\n",
            "Length: 1272825284 (1.2G) [binary/octet-stream]\n",
            "Saving to: ‘cc.it.300.vec.gz’\n",
            "\n",
            "cc.it.300.vec.gz    100%[===================>]   1.18G  33.1MB/s    in 31s     \n",
            "\n",
            "2023-06-25 14:41:44 (39.3 MB/s) - ‘cc.it.300.vec.gz’ saved [1272825284/1272825284]\n",
            "\n",
            "Looking in indexes: https://pypi.org/simple, https://us-python.pkg.dev/colab-wheels/public/simple/\n",
            "Collecting simplemma\n",
            "  Downloading simplemma-0.9.1-py3-none-any.whl (75.5 MB)\n",
            "\u001b[2K     \u001b[90m━━━━━━━━━━━━━━━━━━━━━━━━━━━━━━━━━━━━━━━━\u001b[0m \u001b[32m75.5/75.5 MB\u001b[0m \u001b[31m9.8 MB/s\u001b[0m eta \u001b[36m0:00:00\u001b[0m\n",
            "\u001b[?25hInstalling collected packages: simplemma\n",
            "Successfully installed simplemma-0.9.1\n"
          ]
        }
      ],
      "source": [
        "!wget 'https://dl.fbaipublicfiles.com/fasttext/vectors-crawl/cc.it.300.vec.gz'\n",
        "!gunzip cc.it.300.vec.gz\n",
        "\n",
        "! pip install simplemma"
      ]
    },
    {
      "cell_type": "code",
      "execution_count": 2,
      "metadata": {
        "id": "ltMprfNvFmBa"
      },
      "outputs": [],
      "source": [
        "import pandas as pd\n",
        "import string\n",
        "import spacy\n",
        "from spacy.lang.it import Italian\n",
        "from sklearn import metrics\n",
        "from sklearn.model_selection import KFold\n",
        "import nltk\n",
        "import re\n",
        "from nltk.corpus import stopwords\n",
        "from snowballstemmer import stemmer"
      ]
    },
    {
      "cell_type": "code",
      "execution_count": 3,
      "metadata": {
        "id": "fkVw0DyFKIpc"
      },
      "outputs": [],
      "source": [
        "# used in Colab to use GPU and avoid errors\n",
        "\n",
        "import locale\n",
        "locale.getpreferredencoding = lambda: \"UTF-8\""
      ]
    },
    {
      "cell_type": "code",
      "execution_count": 4,
      "metadata": {
        "colab": {
          "base_uri": "https://localhost:8080/"
        },
        "id": "gSDdn7W6FFls",
        "outputId": "03ce4695-d0d8-40d5-8a6b-9ecbf92ee64c"
      },
      "outputs": [
        {
          "name": "stderr",
          "output_type": "stream",
          "text": [
            "[nltk_data] Downloading package punkt to /root/nltk_data...\n",
            "[nltk_data]   Unzipping tokenizers/punkt.zip.\n",
            "[nltk_data] Downloading package stopwords to /root/nltk_data...\n",
            "[nltk_data]   Unzipping corpora/stopwords.zip.\n"
          ]
        }
      ],
      "source": [
        "from nltk.stem.snowball import SnowballStemmer\n",
        "import simplemma\n",
        "from nltk.tokenize import word_tokenize\n",
        "\n",
        "nltk.download('punkt')\n",
        "nltk.download('stopwords')\n",
        "stemmer = SnowballStemmer('italian')\n",
        "punctuations = string.punctuation\n",
        "stop_words = set(stopwords.words('italian'))\n",
        "parser = Italian()\n",
        "\n",
        "\n",
        "def text_cleaning(text):\n",
        "  text = text.lower()\n",
        "  text = re.sub(r\"URL|url\", '', text)\n",
        "  text = re.sub(r'@\\w+\\s*', '', text)\n",
        "  text = re.sub(r'\\b\\w*\\d\\w*\\b', '', text)\n",
        "  text = re.sub(r\"\\.{2,4}\", '', text)\n",
        "\n",
        "  text = word_tokenize(text)\n",
        "  text = [simplemma.lemmatize(token, lang='it') for token in text]\n",
        "  text = [stemmer.stem(token) for token in text]\n",
        "  text = [token for token in text if token not in stop_words and token not in punctuations ]\n",
        "\n",
        "  # Join the stemmed tokens back into a single string\n",
        "  cleaned_text = ' '.join(text)\n",
        "\n",
        "  return cleaned_text"
      ]
    },
    {
      "cell_type": "code",
      "execution_count": 5,
      "metadata": {
        "id": "DYuZ3pZZFmBe"
      },
      "outputs": [],
      "source": [
        "import numpy as np\n",
        "\n",
        "def create_embedding_matrix(filepath, word_index, embedding_dim):\n",
        "    vocab_size = len(word_index) + 1  # Adding again 1 because of reserved 0 index\n",
        "    embedding_matrix = np.zeros((vocab_size, embedding_dim))\n",
        "\n",
        "    with open(filepath) as f:\n",
        "        f.readline # skip first line that contains word space info\n",
        "        for line in f:\n",
        "            word, *vector = line.split()\n",
        "            if word in word_index: # load only word embeddings into the vocabulary\n",
        "                idx = word_index[word]\n",
        "                embedding_matrix[idx] = np.array(\n",
        "                    vector, dtype=np.float32)[:embedding_dim]\n",
        "    return embedding_matrix\n"
      ]
    },
    {
      "cell_type": "code",
      "execution_count": 6,
      "metadata": {
        "colab": {
          "base_uri": "https://localhost:8080/"
        },
        "id": "utdu3gNnFmBd",
        "outputId": "1920a99d-18b6-480a-8741-a097821c1dba"
      },
      "outputs": [
        {
          "name": "stdout",
          "output_type": "stream",
          "text": [
            "<bound method DataFrame.info of         id                                               text hs st\n",
            "1     2066  È terrorismo anche questo, per mettere in uno ...  0  0\n",
            "2     2045  @user @user infatti finché ci hanno guadagnato...  0  0\n",
            "3       61  Corriere: Tangenti, Mafia Capitale dimenticata...  0  0\n",
            "4     1259  @user ad uno ad uno, perché quando i migranti ...  0  0\n",
            "5      949  Il divertimento del giorno? Trovare i patrioti...  0  0\n",
            "...    ...                                                ... .. ..\n",
            "6833  9340  Gli stati nazionali devono essere pronti a rin...  0  0\n",
            "6834  9121  Il ministro dell'interno della Germania #Horst...  0  0\n",
            "6835  8549  #Salvini: In Italia troppi si sono montati la ...  0  0\n",
            "6836  9240  @user @user Chi giubila in buona fede non ha c...  0  0\n",
            "6837  8000  I giovani cristiani in #Etiopia sono indotti d...  0  1\n",
            "\n",
            "[6837 rows x 4 columns]>\n"
          ]
        }
      ],
      "source": [
        "from collections import Counter\n",
        "from sklearn.datasets import make_classification\n",
        "from imblearn.under_sampling import NearMiss\n",
        "from matplotlib import pyplot\n",
        "from numpy import where\n",
        "from keras.preprocessing.text import Tokenizer\n",
        "from keras.utils import pad_sequences\n",
        "from imblearn.over_sampling import SMOTE\n",
        "from keras.utils import to_categorical\n",
        "from sklearn.model_selection import train_test_split\n",
        "import numpy as np\n",
        "\n",
        "\n",
        "d = pd.read_csv('./trainingset_tweet.tsv', sep='\\t', names=[\"id\", \"text\", \"hs\", \"st\"], encoding='utf-8')\n",
        "d = d.drop(0)\n",
        "\n",
        "task_label = \"hs\"\n",
        "\n",
        "\n",
        "X_tr = d['text'] # the features\n",
        "y_train = d[task_label] # the labels\n",
        "print(d.info)\n",
        "\n",
        "\n",
        "t = pd.read_csv('./testset_tweet.tsv', sep='\\t', names=[\"id\", \"text\", \"hs\", \"st\"], encoding='utf-8')\n",
        "#t = t.drop(0)\n",
        "X_te = t['text'] # the features\n",
        "y_test = t[task_label] # the labels\n",
        "\n",
        "n = pd.read_csv('./testset_news.tsv', sep='\\t', names=[\"id\", \"text\", \"hs\", \"st\"], encoding='utf-8')\n",
        "X_te_news = n['text'] # the features\n",
        "y_test_news = n[task_label] # the labels\n",
        "\n",
        "\n",
        "X_tr = X_tr.apply(text_cleaning)\n",
        "\n",
        "tokenizer = Tokenizer(num_words=10000)\n",
        "tokenizer.fit_on_texts(X_tr)\n",
        "\n",
        "X_train = tokenizer.texts_to_sequences(X_tr)\n",
        "X_test = tokenizer.texts_to_sequences(X_te)\n",
        "X_test_news = tokenizer.texts_to_sequences(X_te_news)\n",
        "\n",
        "vocab_size = len(tokenizer.word_index) + 1\n",
        "\n",
        "maxlen = 128\n",
        "\n",
        "X_train = pad_sequences(X_train, padding='post', maxlen=maxlen)\n",
        "X_test = pad_sequences(X_test, padding='post', maxlen=maxlen)\n",
        "X_test_news = pad_sequences(X_test_news, padding='post', maxlen=maxlen)\n",
        "\n",
        "# Undersampling\n",
        "undersample = NearMiss(version=2, n_neighbors=3)\n",
        "X_undersampled, y_undersampled = undersample.fit_resample(X_train, y_train)\n",
        "\n",
        "# Oversampling\n",
        "sm = SMOTE()\n",
        "X_smote, y_smote = sm.fit_resample(X_train, y_train.ravel())\n",
        "\n",
        "\n",
        "y_train = to_categorical(y_train, dtype =\"int\")\n",
        "y_undersampled = to_categorical(y_undersampled, dtype =\"int\")\n",
        "y_smote = to_categorical(y_smote, dtype =\"int\")\n",
        "\n",
        "\n",
        "# Train - Validation Set split\n",
        "X_train, X_val, y_train, y_val = train_test_split(X_train, y_train, test_size=0.2)\n",
        "X_train_und, X_val_und, y_train_und, y_val_und = train_test_split(X_undersampled, y_undersampled, test_size=0.2)\n",
        "X_train_sm, X_val_sm, y_train_sm, y_val_sm = train_test_split(X_smote, y_smote, test_size=0.2)\n",
        "\n"
      ]
    },
    {
      "cell_type": "code",
      "execution_count": 7,
      "metadata": {
        "colab": {
          "base_uri": "https://localhost:8080/"
        },
        "id": "vRkDzLhCvH38",
        "outputId": "8cae28f2-dfad-486c-cf11-c6ba1a83c774"
      },
      "outputs": [
        {
          "name": "stdout",
          "output_type": "stream",
          "text": [
            "Vocabulary coverage:  0.4550300363820966\n"
          ]
        }
      ],
      "source": [
        "embedding_dim = 300\n",
        "embedding_matrix = create_embedding_matrix('./cc.it.300.vec', tokenizer.word_index, embedding_dim)\n",
        "\n",
        "\n",
        "nonzero_elements = np.count_nonzero(np.count_nonzero(embedding_matrix, axis=1))\n",
        "print('Vocabulary coverage: ',nonzero_elements / vocab_size)"
      ]
    },
    {
      "cell_type": "code",
      "execution_count": 8,
      "metadata": {
        "id": "XtAiLOajl1FA"
      },
      "outputs": [],
      "source": [
        "from keras import backend as K\n",
        "\n",
        "\n",
        "def recall_m(y_true, y_pred):\n",
        "    true_positives = K.sum(K.round(K.clip(y_true * y_pred, 0, 1)))\n",
        "    possible_positives = K.sum(K.round(K.clip(y_true, 0, 1)))\n",
        "    recall = true_positives / (possible_positives + K.epsilon())\n",
        "    return recall\n",
        "\n",
        "def precision_m(y_true, y_pred):\n",
        "    true_positives = K.sum(K.round(K.clip(y_true * y_pred, 0, 1)))\n",
        "    predicted_positives = K.sum(K.round(K.clip(y_pred, 0, 1)))\n",
        "    precision = true_positives / (predicted_positives + K.epsilon())\n",
        "    return precision\n",
        "\n",
        "def f1_m(y_true, y_pred):\n",
        "    precision = precision_m(y_true, y_pred)\n",
        "    recall = recall_m(y_true, y_pred)\n",
        "    return 2*((precision*recall)/(precision+recall+K.epsilon()))"
      ]
    },
    {
      "cell_type": "code",
      "execution_count": 9,
      "metadata": {
        "id": "MsCZ3FM0Qj9Y"
      },
      "outputs": [],
      "source": [
        "import matplotlib.pyplot as plt\n",
        "from sklearn.metrics import confusion_matrix, ConfusionMatrixDisplay\n",
        "\n",
        "# function used to evaluate the results of the model\n",
        "\n",
        "def evaluating_results(X_test, y_test, classifier):\n",
        "    pred = classifier.predict(X_test)\n",
        "    predicted = np.argmax(pred, axis=-1)\n",
        "\n",
        "    y_test = [int(x) for x in y_test]\n",
        "    predicted = predicted.astype(int)\n",
        "\n",
        "    acc = metrics.accuracy_score(y_test, predicted)\n",
        "    print(\"Accuracy:\", acc)\n",
        "    precision = metrics.precision_score(y_test, predicted, average='macro')\n",
        "    recall = metrics.recall_score(y_test, predicted, average='macro')\n",
        "    fm = metrics.f1_score(y_test, predicted, average='macro')\n",
        "    print(\"P={0}, R={1}, F1={2}\".format(precision, recall, fm))\n",
        "    print(\"======================================================\")\n",
        "    print(metrics.classification_report(y_test, predicted, digits=4))\n",
        "\n",
        "    cm = confusion_matrix(y_test, predicted)\n",
        "    disp = ConfusionMatrixDisplay(confusion_matrix=cm)\n",
        "    disp.plot()"
      ]
    },
    {
      "cell_type": "code",
      "execution_count": 10,
      "metadata": {
        "colab": {
          "base_uri": "https://localhost:8080/"
        },
        "id": "BuAa_mjMFmBf",
        "outputId": "9d750d72-05c9-490b-99af-378eb676e3be"
      },
      "outputs": [
        {
          "name": "stdout",
          "output_type": "stream",
          "text": [
            "Vocabulary coverage:  0.4550300363820966\n"
          ]
        }
      ],
      "source": [
        "nonzero_elements = np.count_nonzero(np.count_nonzero(embedding_matrix, axis=1))\n",
        "print('Vocabulary coverage: ',nonzero_elements / vocab_size)"
      ]
    },
    {
      "cell_type": "code",
      "execution_count": 11,
      "metadata": {
        "colab": {
          "base_uri": "https://localhost:8080/"
        },
        "id": "V5TO-lA2Uzwb",
        "outputId": "4786322e-b700-435f-9418-4a43dff30879"
      },
      "outputs": [
        {
          "name": "stdout",
          "output_type": "stream",
          "text": [
            "Model: \"sequential\"\n",
            "_________________________________________________________________\n",
            " Layer (type)                Output Shape              Param #   \n",
            "=================================================================\n",
            " embedding (Embedding)       (None, 128, 300)          3545700   \n",
            "                                                                 \n",
            " conv1d (Conv1D)             (None, 124, 512)          768512    \n",
            "                                                                 \n",
            " global_max_pooling1d (Globa  (None, 512)              0         \n",
            " lMaxPooling1D)                                                  \n",
            "                                                                 \n",
            " dense (Dense)               (None, 512)               262656    \n",
            "                                                                 \n",
            " dense_1 (Dense)             (None, 2)                 1026      \n",
            "                                                                 \n",
            "=================================================================\n",
            "Total params: 4,577,894\n",
            "Trainable params: 4,577,894\n",
            "Non-trainable params: 0\n",
            "_________________________________________________________________\n"
          ]
        }
      ],
      "source": [
        "from keras.models import Sequential\n",
        "from keras import layers\n",
        "from sklearn.preprocessing import LabelBinarizer\n",
        "\n",
        "maxlen= 128\n",
        "\n",
        "model = Sequential()\n",
        "model.add(layers.Embedding(vocab_size, embedding_dim, input_length=maxlen, trainable=True))\n",
        "model.add(layers.Conv1D(512, 5, activation='relu'))\n",
        "model.add(layers.GlobalMaxPooling1D())\n",
        "model.add(layers.Dense(512, activation='relu'))\n",
        "model.add(layers.Dense(2, activation='softmax'))\n",
        "model.compile(optimizer='adam',\n",
        "              loss='categorical_crossentropy',\n",
        "              metrics=['accuracy'])\n",
        "model.summary()"
      ]
    },
    {
      "attachments": {},
      "cell_type": "markdown",
      "metadata": {
        "id": "_tge0GwkcPOA"
      },
      "source": [
        "**Training with the original dataset**"
      ]
    },
    {
      "cell_type": "code",
      "execution_count": 12,
      "metadata": {
        "colab": {
          "base_uri": "https://localhost:8080/"
        },
        "id": "-0s6Tb2VFmBg",
        "outputId": "3527c29a-bc0e-4e09-e73b-34300efb9983"
      },
      "outputs": [
        {
          "name": "stdout",
          "output_type": "stream",
          "text": [
            "Epoch 1/50\n",
            "86/86 [==============================] - 29s 206ms/step - loss: 0.5681 - accuracy: 0.6873 - val_loss: 0.4722 - val_accuracy: 0.7558\n",
            "Epoch 2/50\n",
            "86/86 [==============================] - 7s 81ms/step - loss: 0.2902 - accuracy: 0.8780 - val_loss: 0.5363 - val_accuracy: 0.7493\n",
            "Epoch 3/50\n",
            "86/86 [==============================] - 5s 56ms/step - loss: 0.0780 - accuracy: 0.9782 - val_loss: 0.7788 - val_accuracy: 0.7354\n",
            "Epoch 4/50\n",
            "86/86 [==============================] - 3s 39ms/step - loss: 0.0288 - accuracy: 0.9938 - val_loss: 0.9161 - val_accuracy: 0.7398\n",
            "Epoch 5/50\n",
            "86/86 [==============================] - 4s 44ms/step - loss: 0.0147 - accuracy: 0.9978 - val_loss: 0.9274 - val_accuracy: 0.7580\n",
            "Epoch 6/50\n",
            "86/86 [==============================] - 3s 41ms/step - loss: 0.0107 - accuracy: 0.9980 - val_loss: 0.9899 - val_accuracy: 0.7551\n"
          ]
        },
        {
          "data": {
            "text/plain": [
              "<keras.callbacks.History at 0x7fc85fc51330>"
            ]
          },
          "execution_count": 12,
          "metadata": {},
          "output_type": "execute_result"
        }
      ],
      "source": [
        "import keras\n",
        "from keras import backend\n",
        "\n",
        "from tensorflow.keras.callbacks import EarlyStopping\n",
        "\n",
        "early_stopping = EarlyStopping(monitor='val_loss', patience=5, restore_best_weights=True)\n",
        "\n",
        "keras.backend.clear_session()\n",
        "\n",
        "model.fit(X_train,  y_train,\n",
        "                    epochs=50,\n",
        "                    verbose=True,\n",
        "                    validation_data=(X_val, y_val),\n",
        "                    callbacks=[early_stopping],\n",
        "                    batch_size=64)"
      ]
    },
    {
      "cell_type": "code",
      "execution_count": 13,
      "metadata": {
        "colab": {
          "base_uri": "https://localhost:8080/",
          "height": 675
        },
        "id": "jElubWwjQnhM",
        "outputId": "fe55b17d-31c2-4cc5-ad3d-aaf79aba7be7"
      },
      "outputs": [
        {
          "name": "stdout",
          "output_type": "stream",
          "text": [
            "40/40 [==============================] - 0s 4ms/step\n",
            "Accuracy: 0.6120348376880443\n",
            "P=0.6133612792182555, R=0.6126618376632171, F1=0.6116255660538391\n",
            "======================================================\n",
            "              precision    recall  f1-score   support\n",
            "\n",
            "           0     0.6299    0.5710    0.5990       641\n",
            "           1     0.5968    0.6543    0.6242       622\n",
            "\n",
            "    accuracy                         0.6120      1263\n",
            "   macro avg     0.6134    0.6127    0.6116      1263\n",
            "weighted avg     0.6136    0.6120    0.6114      1263\n",
            "\n"
          ]
        },
        {
          "data": {
            "image/png": "[encoded data removed]",
            "text/plain": [
              "<Figure size 640x480 with 2 Axes>"
            ]
          },
          "metadata": {},
          "output_type": "display_data"
        }
      ],
      "source": [
        "evaluating_results(X_test, y_test, model)"
      ]
    },
    {
      "cell_type": "code",
      "execution_count": 14,
      "metadata": {
        "colab": {
          "base_uri": "https://localhost:8080/",
          "height": 675
        },
        "id": "YdPpJi5Lbn9M",
        "outputId": "79da5e53-b380-4e1f-8fc5-d04f052d939d"
      },
      "outputs": [
        {
          "name": "stdout",
          "output_type": "stream",
          "text": [
            "16/16 [==============================] - 0s 6ms/step\n",
            "Accuracy: 0.612\n",
            "P=0.5199229958955359, R=0.5094996449540172, F1=0.4741521380865643\n",
            "======================================================\n",
            "              precision    recall  f1-score   support\n",
            "\n",
            "           0     0.6430    0.8809    0.7434       319\n",
            "           1     0.3968    0.1381    0.2049       181\n",
            "\n",
            "    accuracy                         0.6120       500\n",
            "   macro avg     0.5199    0.5095    0.4742       500\n",
            "weighted avg     0.5539    0.6120    0.5485       500\n",
            "\n"
          ]
        },
        {
          "data": {
            "image/png": "[encoded data removed]",
            "text/plain": [
              "<Figure size 640x480 with 2 Axes>"
            ]
          },
          "metadata": {},
          "output_type": "display_data"
        }
      ],
      "source": [
        "evaluating_results(X_test_news, y_test_news, model)"
      ]
    },
    {
      "attachments": {},
      "cell_type": "markdown",
      "metadata": {
        "id": "ypQkm2IpcVBh"
      },
      "source": [
        "**Training with the undersampled dataset**"
      ]
    },
    {
      "cell_type": "code",
      "execution_count": 15,
      "metadata": {
        "colab": {
          "base_uri": "https://localhost:8080/"
        },
        "id": "6OKNxtmOv7cx",
        "outputId": "dd3cfac5-e532-47c1-e4c5-04a426acefd9"
      },
      "outputs": [
        {
          "name": "stdout",
          "output_type": "stream",
          "text": [
            "Epoch 1/50\n",
            "70/70 [==============================] - 3s 49ms/step - loss: 0.3535 - accuracy: 0.8427 - val_loss: 0.3995 - val_accuracy: 0.8284\n",
            "Epoch 2/50\n",
            "70/70 [==============================] - 2s 33ms/step - loss: 0.0994 - accuracy: 0.9668 - val_loss: 0.4763 - val_accuracy: 0.8211\n",
            "Epoch 3/50\n",
            "70/70 [==============================] - 1s 19ms/step - loss: 0.0274 - accuracy: 0.9937 - val_loss: 0.6020 - val_accuracy: 0.8040\n",
            "Epoch 4/50\n",
            "70/70 [==============================] - 2s 28ms/step - loss: 0.0115 - accuracy: 0.9984 - val_loss: 0.6858 - val_accuracy: 0.7995\n",
            "Epoch 5/50\n",
            "70/70 [==============================] - 1s 21ms/step - loss: 0.0099 - accuracy: 0.9989 - val_loss: 0.6963 - val_accuracy: 0.8049\n",
            "Epoch 6/50\n",
            "70/70 [==============================] - 2s 27ms/step - loss: 0.0085 - accuracy: 0.9986 - val_loss: 0.7022 - val_accuracy: 0.8040\n"
          ]
        },
        {
          "data": {
            "text/plain": [
              "<keras.callbacks.History at 0x7fc8534c4d60>"
            ]
          },
          "execution_count": 15,
          "metadata": {},
          "output_type": "execute_result"
        }
      ],
      "source": [
        "model.fit(X_train_und, y_train_und,\n",
        "                      epochs=50,\n",
        "                      verbose=True,\n",
        "                      validation_data=(X_val_und, y_val_und),\n",
        "                      callbacks=[early_stopping],\n",
        "                      batch_size=64)\n"
      ]
    },
    {
      "cell_type": "code",
      "execution_count": 16,
      "metadata": {
        "colab": {
          "base_uri": "https://localhost:8080/",
          "height": 675
        },
        "id": "rIWHmC7kRGwP",
        "outputId": "7f01a8fd-ae76-4b14-bdf8-46f93ab944a4"
      },
      "outputs": [
        {
          "name": "stdout",
          "output_type": "stream",
          "text": [
            "40/40 [==============================] - 0s 2ms/step\n",
            "Accuracy: 0.5716547901821061\n",
            "P=0.572209653092006, R=0.5720462902117371, F1=0.5715247838914895\n",
            "======================================================\n",
            "              precision    recall  f1-score   support\n",
            "\n",
            "           0     0.5833    0.5460    0.5641       641\n",
            "           1     0.5611    0.5981    0.5790       622\n",
            "\n",
            "    accuracy                         0.5717      1263\n",
            "   macro avg     0.5722    0.5720    0.5715      1263\n",
            "weighted avg     0.5724    0.5717    0.5714      1263\n",
            "\n"
          ]
        },
        {
          "data": {
            "image/png": "[encoded data removed]",
            "text/plain": [
              "<Figure size 640x480 with 2 Axes>"
            ]
          },
          "metadata": {},
          "output_type": "display_data"
        }
      ],
      "source": [
        "evaluating_results(X_test, y_test, model)"
      ]
    },
    {
      "cell_type": "code",
      "execution_count": 17,
      "metadata": {
        "colab": {
          "base_uri": "https://localhost:8080/",
          "height": 675
        },
        "id": "SMQ96MsMcHS3",
        "outputId": "d8c0764e-3ac7-4e9b-ff04-1db2fa98b202"
      },
      "outputs": [
        {
          "name": "stdout",
          "output_type": "stream",
          "text": [
            "16/16 [==============================] - 0s 4ms/step\n",
            "Accuracy: 0.662\n",
            "P=0.6244282744282744, R=0.6036561076568697, F1=0.605654310501729\n",
            "======================================================\n",
            "              precision    recall  f1-score   support\n",
            "\n",
            "           0     0.7027    0.8150    0.7547       319\n",
            "           1     0.5462    0.3923    0.4566       181\n",
            "\n",
            "    accuracy                         0.6620       500\n",
            "   macro avg     0.6244    0.6037    0.6057       500\n",
            "weighted avg     0.6460    0.6620    0.6468       500\n",
            "\n"
          ]
        },
        {
          "data": {
            "image/png": "[encoded data removed]",
            "text/plain": [
              "<Figure size 640x480 with 2 Axes>"
            ]
          },
          "metadata": {},
          "output_type": "display_data"
        }
      ],
      "source": [
        "evaluating_results(X_test_news, y_test_news, model)"
      ]
    },
    {
      "attachments": {},
      "cell_type": "markdown",
      "metadata": {
        "id": "AW2HATWfcacJ"
      },
      "source": [
        "**Training with the oversampled dataset**"
      ]
    },
    {
      "cell_type": "code",
      "execution_count": 18,
      "metadata": {
        "colab": {
          "base_uri": "https://localhost:8080/"
        },
        "id": "G_9LQ0Dig_w_",
        "outputId": "786a292f-8640-43a8-a95d-ce02ef4cc317"
      },
      "outputs": [
        {
          "name": "stdout",
          "output_type": "stream",
          "text": [
            "Epoch 1/50\n",
            "102/102 [==============================] - 3s 32ms/step - loss: 0.3333 - accuracy: 0.8560 - val_loss: 0.3307 - val_accuracy: 0.8607\n",
            "Epoch 2/50\n",
            "102/102 [==============================] - 3s 26ms/step - loss: 0.0636 - accuracy: 0.9794 - val_loss: 0.4200 - val_accuracy: 0.8557\n",
            "Epoch 3/50\n",
            "102/102 [==============================] - 2s 21ms/step - loss: 0.0238 - accuracy: 0.9945 - val_loss: 0.4677 - val_accuracy: 0.8521\n",
            "Epoch 4/50\n",
            "102/102 [==============================] - 3s 25ms/step - loss: 0.0144 - accuracy: 0.9983 - val_loss: 0.4607 - val_accuracy: 0.8459\n",
            "Epoch 5/50\n",
            "102/102 [==============================] - 2s 19ms/step - loss: 0.0126 - accuracy: 0.9986 - val_loss: 0.4546 - val_accuracy: 0.8557\n",
            "Epoch 6/50\n",
            "102/102 [==============================] - 3s 26ms/step - loss: 0.0086 - accuracy: 0.9989 - val_loss: 0.4726 - val_accuracy: 0.8551\n"
          ]
        },
        {
          "data": {
            "text/plain": [
              "<keras.callbacks.History at 0x7fc85320d270>"
            ]
          },
          "execution_count": 18,
          "metadata": {},
          "output_type": "execute_result"
        }
      ],
      "source": [
        "model.fit(X_train_sm, y_train_sm,\n",
        "                      epochs=50,\n",
        "                      verbose=True,\n",
        "                      validation_data=(X_val_sm, y_val_sm),\n",
        "                      callbacks=[early_stopping],\n",
        "                      batch_size=64)\n"
      ]
    },
    {
      "cell_type": "code",
      "execution_count": 19,
      "metadata": {
        "colab": {
          "base_uri": "https://localhost:8080/",
          "height": 675
        },
        "id": "nv3LnXo9RIiW",
        "outputId": "f0c9447b-7379-46a6-8ab8-8f69a96a11b8"
      },
      "outputs": [
        {
          "name": "stdout",
          "output_type": "stream",
          "text": [
            "40/40 [==============================] - 0s 2ms/step\n",
            "Accuracy: 0.5779889152810768\n",
            "P=0.5808897149674066, R=0.5761897356923216, F1=0.5709297767579712\n",
            "======================================================\n",
            "              precision    recall  f1-score   support\n",
            "\n",
            "           0     0.5689    0.6958    0.6260       641\n",
            "           1     0.5929    0.4566    0.5159       622\n",
            "\n",
            "    accuracy                         0.5780      1263\n",
            "   macro avg     0.5809    0.5762    0.5709      1263\n",
            "weighted avg     0.5807    0.5780    0.5718      1263\n",
            "\n"
          ]
        },
        {
          "data": {
            "image/png": "[encoded data removed]",
            "text/plain": [
              "<Figure size 640x480 with 2 Axes>"
            ]
          },
          "metadata": {},
          "output_type": "display_data"
        }
      ],
      "source": [
        "evaluating_results(X_test, y_test, model)"
      ]
    },
    {
      "cell_type": "code",
      "execution_count": 20,
      "metadata": {
        "colab": {
          "base_uri": "https://localhost:8080/",
          "height": 675
        },
        "id": "EJIubHmgipki",
        "outputId": "b7cbaedf-dcc3-42b1-db30-e4b75df59151"
      },
      "outputs": [
        {
          "name": "stdout",
          "output_type": "stream",
          "text": [
            "16/16 [==============================] - 0s 2ms/step\n",
            "Accuracy: 0.69\n",
            "P=0.6759386446886446, R=0.606479156202913, F1=0.6021049929405724\n",
            "======================================================\n",
            "              precision    recall  f1-score   support\n",
            "\n",
            "           0     0.6971    0.9091    0.7891       319\n",
            "           1     0.6548    0.3039    0.4151       181\n",
            "\n",
            "    accuracy                         0.6900       500\n",
            "   macro avg     0.6759    0.6065    0.6021       500\n",
            "weighted avg     0.6818    0.6900    0.6537       500\n",
            "\n"
          ]
        },
        {
          "data": {
            "image/png": "[encoded data removed]",
            "text/plain": [
              "<Figure size 640x480 with 2 Axes>"
            ]
          },
          "metadata": {},
          "output_type": "display_data"
        }
      ],
      "source": [
        "evaluating_results(X_test_news, y_test_news, model)"
      ]
    }
  ],
  "metadata": {
    "accelerator": "GPU",
    "colab": {
      "gpuType": "T4",
      "provenance": []
    },
    "kernelspec": {
      "display_name": "Python 3",
      "name": "python3"
    },
    "language_info": {
      "codemirror_mode": {
        "name": "ipython",
        "version": 3
      },
      "file_extension": ".py",
      "mimetype": "text/x-python",
      "name": "python",
      "nbconvert_exporter": "python",
      "pygments_lexer": "ipython3",
      "version": "3.10.7"
    }
  },
  "nbformat": 4,
  "nbformat_minor": 0
}
